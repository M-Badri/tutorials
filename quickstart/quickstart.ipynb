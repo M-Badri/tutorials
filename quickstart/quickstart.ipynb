{
 "cells": [
  {
   "attachments": {},
   "cell_type": "markdown",
   "metadata": {},
   "source": [
    "Before you begin, make sure you have all the necessary libraries installed.\n",
    "\n",
    "In this quickstart, we run two controllers to actively manipulate the flow of fluid passing a cylinder, utilizing a synthetic jet as a means of control:\n",
    "\n",
    "- open-loop active flow control using a sinusoidal signal: `open_loop_sinusoidal_controller.py`\n",
    "- closed-loop active flow control using a pre-trained deep neural network: `closed_loop_ppo_controller.py` \n",
    "\n",
    "The aim of the controller is to minimize the drag coefficient on the cylinder while keeping the lift forces as low as possible."
   ]
  },
  {
   "attachments": {},
   "cell_type": "markdown",
   "metadata": {},
   "source": [
    "## Run Quickstart"
   ]
  },
  {
   "attachments": {},
   "cell_type": "markdown",
   "metadata": {},
   "source": [
    "The baseline scenario where no control is applied (please ensure that you substitute `/usr/lib/openfoam/openfoam2112/etc/bashrc` with the path of the OpenFOAM bashrc that is accessible in your system):"
   ]
  },
  {
   "cell_type": "code",
   "execution_count": null,
   "metadata": {},
   "outputs": [],
   "source": [
    "from os import system\n",
    "_ = system(\". /usr/lib/openfoam/openfoam2112/etc/bashrc && python3 -u ./baseline.py\")"
   ]
  },
  {
   "attachments": {},
   "cell_type": "markdown",
   "metadata": {},
   "source": [
    "Closed-loop active flow control using a pre-trained deep neural network, which has been trained using our framework `gymprecice` (please ensure that you substitute `/usr/lib/openfoam/openfoam2112/etc/bashrc` with the path of the OpenFOAM bashrc that is accessible in your system):"
   ]
  },
  {
   "cell_type": "code",
   "execution_count": null,
   "metadata": {},
   "outputs": [],
   "source": [
    "from os import system\n",
    "_ = system(\". /usr/lib/openfoam/openfoam2112/etc/bashrc && python3 -u ./closed_loop_ppo_controller.py\")"
   ]
  },
  {
   "attachments": {},
   "cell_type": "markdown",
   "metadata": {},
   "source": [
    "Open-loop active flow control using a pre-defined sinusoidal signel (please ensure that you substitute `/usr/lib/openfoam/openfoam2112/etc/bashrc` with the path of the OpenFOAM bashrc that is accessible in your system). \n",
    "\n",
    "Note: It is not anticipated that the sinusoidal signal would be able to attain the control objective:"
   ]
  },
  {
   "cell_type": "code",
   "execution_count": null,
   "metadata": {},
   "outputs": [],
   "source": [
    "from os import system\n",
    "_ = system(\". /usr/lib/openfoam/openfoam2112/etc/bashrc && python3 -u ./open_loop_sinusoidal_controller.py\")"
   ]
  },
  {
   "attachments": {},
   "cell_type": "markdown",
   "metadata": {},
   "source": [
    "## Compare the results"
   ]
  },
  {
   "attachments": {},
   "cell_type": "markdown",
   "metadata": {},
   "source": [
    "Plots of jets' flow-rate (control signal profile):"
   ]
  },
  {
   "cell_type": "code",
   "execution_count": null,
   "metadata": {},
   "outputs": [],
   "source": [
    "from os import path\n",
    "import numpy as np\n",
    "import matplotlib.pyplot as plt\n",
    "\n",
    "baseline_case = \"./fluid-openfoam\"\n",
    "ppo_case = \"./fluid-openfoam\"\n",
    "sinusoidal_case = \"./fluid-openfoam\"\n",
    "\n",
    "# control signal information for the baseline (nothing but zero values, read as ckeck!)\n",
    "baseline_jet1_file = path.join(baseline_case, \"postProcessing/flowRateJet1/0/surfaceFieldValue.dat\")\n",
    "baseline_jet1 = np.loadtxt(baseline_jet1_file, unpack=True, usecols=[0, 1])\n",
    "baseline_jet2_file = path.join(baseline_case, \"postProcessing/flowRateJet2/0/surfaceFieldValue.dat\")\n",
    "baseline_jet2 = np.loadtxt(baseline_jet2_file, unpack=True, usecols=[0, 1])\n",
    "\n",
    "# control signal information for the ppo controller\n",
    "ppo_jet1_file = path.join(ppo_case, \"postProcessing/flowRateJet1/0/surfaceFieldValue.dat\")\n",
    "ppo_jet1 = np.loadtxt(ppo_jet1_file, unpack=True, usecols=[0, 1])\n",
    "ppo_jet2_file = path.join(ppo_case, \"postProcessing/flowRateJet2/0/surfaceFieldValue.dat\")\n",
    "ppo_jet2 = np.loadtxt(ppo_jet2_file, unpack=True, usecols=[0, 1])\n",
    "\n",
    "# control signal information for the sinusoidal controller\n",
    "sinusoidal_jet1_file = path.join(sinusoidal_case, \"postProcessing/flowRateJet1/0/surfaceFieldValue.dat\")\n",
    "sinusoidal_jet1 = np.loadtxt(sinusoidal_jet1_file, unpack=True, usecols=[0, 1])\n",
    "sinusoidal_jet2_file = path.join(sinusoidal_case, \"postProcessing/flowRateJet2/0/surfaceFieldValue.dat\")\n",
    "sinusoidal_jet2 = np.loadtxt(sinusoidal_jet2_file, unpack=True, usecols=[0, 1])\n",
    "\n",
    "fig, ax = plt.subplots(figsize=(5, 3))\n",
    "ax.set_xlim((0, 8))\n",
    "ax.set_ylim((-2.75e-4, 2.75e-4))\n",
    "ax.set_ylabel(\"Control signal (m$^3$/s)\", fontsize=12)\n",
    "ax.set_xlabel(\"Time (s)\", fontsize=12)\n",
    "ax.tick_params(labelsize=12)\n",
    "plt.title(\"PPO control signal vs. Baseline\")\n",
    "plt.grid()\n",
    "ax.plot(ppo_jet1[0], ppo_jet1[1], label='PPO-Jet#1')\n",
    "ax.plot(ppo_jet2[0], ppo_jet2[1],linestyle='dashed', label='PPO-Jet#2')\n",
    "ax.plot(baseline_jet2[0], baseline_jet2[1],linestyle='dashed', label='baseline')\n",
    "ax.legend(loc='lower right', ncol=1, fancybox=True, shadow=True, fontsize=10)\n",
    "\n",
    "fig, ax = plt.subplots(figsize=(5, 3))\n",
    "ax.set_xlim((0, 8))\n",
    "ax.set_ylim((-2.75e-4, 2.75e-4))\n",
    "ax.set_ylabel(\"Control signal (m$^3$/s)\", fontsize=12)\n",
    "ax.set_xlabel(\"Time (s)\", fontsize=12)\n",
    "ax.tick_params(labelsize=12)\n",
    "plt.grid()\n",
    "plt.title(\"Sinusoidal control signal vs. Baseline\")\n",
    "ax.plot(sinusoidal_jet1[0], sinusoidal_jet1[1], label='Sinusoidal-Jet#1')\n",
    "ax.plot(sinusoidal_jet2[0], sinusoidal_jet2[1],linestyle='dashed', label='Sinusoidal-Jet#2')\n",
    "ax.plot(baseline_jet2[0], baseline_jet2[1],linestyle='dashed', label='Baseline')\n",
    "ax.legend(loc='lower right', ncol=1, fancybox=True, shadow=True, fontsize=10)\n"
   ]
  },
  {
   "attachments": {},
   "cell_type": "markdown",
   "metadata": {},
   "source": [
    "Plots of Drag and Lift coefficients (control response profile):"
   ]
  },
  {
   "cell_type": "code",
   "execution_count": null,
   "metadata": {},
   "outputs": [],
   "source": [
    "from os import path\n",
    "import numpy as np\n",
    "import matplotlib.pyplot as plt\n",
    "\n",
    "baseline_case = \"./gymprecice-run/jet_cylinder_2d_baseline/env_0/fluid-openfoam\"\n",
    "ppo_case = \"./gymprecice-run/jet_cylinder_2d_ppo/env_0/fluid-openfoam\"\n",
    "sinusoidal_case = \"./gymprecice-run/jet_cylinder_2d_sinusoidal/env_0/fluid-openfoam\"\n",
    "\n",
    "# control response information for the baseline (nothing but zero values, read as ckeck!)\n",
    "baseline_forces_file = path.join(baseline_case, \"postProcessing/forceCoeffs/0/coefficient.dat\")\n",
    "baseline_forces = np.loadtxt(baseline_forces_file, unpack=True, usecols=[0, 1, 3])\n",
    "\n",
    "# control response information for the ppo controller\n",
    "ppo_forces_file = path.join(ppo_case, \"postProcessing/forceCoeffs/0/coefficient.dat\")\n",
    "ppo_forces = np.loadtxt(ppo_forces_file, unpack=True, usecols=[0, 1, 3])\n",
    "\n",
    "# control response information for the sinusoidal controller\n",
    "sinusoidal_forces_file = path.join(sinusoidal_case, \"postProcessing/forceCoeffs/0/coefficient.dat\")\n",
    "sinusoidal_forces = np.loadtxt(sinusoidal_forces_file, unpack=True, usecols=[0, 1, 3])\n",
    "\n",
    "\n",
    "fig, ax = plt.subplots(figsize=(5, 3))\n",
    "ax.set_xlim((0, 8))\n",
    "ax.set_ylim((2.9, 3.3))\n",
    "ax.set_ylabel(\"Drag Coefficient (-)\", fontsize=12)\n",
    "ax.set_xlabel(\"Time (s)\", fontsize=12)\n",
    "ax.tick_params(labelsize=12)\n",
    "plt.grid()\n",
    "ax.plot(ppo_forces[0], ppo_forces[1], label='PPO controller')\n",
    "ax.plot(sinusoidal_forces[0], sinusoidal_forces[1],linestyle='dashed', label='Sinusoidal controller')\n",
    "ax.plot(baseline_forces[0], baseline_forces[1],linestyle='dashed', label='Baseline')\n",
    "ax.legend(loc='center right', ncol=1, fancybox=True, shadow=True, fontsize=10)\n",
    "\n",
    "fig, ax = plt.subplots(figsize=(5, 3))\n",
    "ax.set_xlim((0, 8))\n",
    "#ax.set_ylim((2.9, 3.3))\n",
    "ax.set_ylabel(\"Lift Coefficient (-)\", fontsize=12)\n",
    "ax.set_xlabel(\"Time (s)\", fontsize=12)\n",
    "ax.tick_params(labelsize=12)\n",
    "plt.grid()\n",
    "ax.plot(ppo_forces[0], ppo_forces[2], label='PPO controller')\n",
    "ax.plot(sinusoidal_forces[0], sinusoidal_forces[2],linestyle='dashed', label='Sinusoidal controller')\n",
    "ax.plot(baseline_forces[0], baseline_forces[2],linestyle='dashed', label='Baseline')\n",
    "ax.legend(loc='lower right', ncol=1, fancybox=True, shadow=True, fontsize=10)"
   ]
  },
  {
   "cell_type": "code",
   "execution_count": null,
   "metadata": {},
   "outputs": [],
   "source": [
    "from scipy import optimize\n",
    "from os import path\n",
    "import numpy as np\n",
    "import matplotlib.pyplot as plt\n",
    "import pandas as pd\n",
    "\n",
    "from os import getcwd\n",
    "print(getcwd())\n",
    "ppo_case = \"./gymprecice-run/jet_cylinder_2d_ppo/env_0/fluid-openfoam\"\n",
    "\n",
    "# control signal information for the ppo controller\n",
    "ppo_jet1_file = path.join(ppo_case, \"postProcessing/flowRateJet1/0/surfaceFieldValue.dat\")\n",
    "ppo_jet1 = np.loadtxt(ppo_jet1_file, unpack=True, usecols=[0, 1])\n",
    "ppo_jet1[0], ppo_jet1[1]\n",
    "\n",
    "\n",
    "x_data = ppo_jet1[0]\n",
    "y_data = ppo_jet1[1]\n",
    "\n",
    "dataset = pd.DataFrame({'time': x_data, 'action': y_data})\n",
    "dataset.to_csv('control_signal.csv', index=False)\n",
    "\n",
    "\n",
    "def make_fourier(na, nb):\n",
    "    def fourier(x, *a):\n",
    "        ret = 0.0\n",
    "        for deg in range(0, na):\n",
    "            ret += a[deg] * np.cos((deg+1) * np.pi / a[-1] * x)\n",
    "        for deg in range(na, na+nb):\n",
    "            ret += a[deg] * np.sin((deg+1) * np.pi / a[-1] * x)\n",
    "        return ret\n",
    "    return fourier\n",
    "\n",
    "d = 15\n",
    "\n",
    "popt, pcov = optimize.curve_fit(make_fourier(d,d), x_data, y_data, [1]*31)\n",
    "\n",
    "plt.figure(figsize=(6, 4))\n",
    "plt.plot(x_data, y_data, label='Data')\n",
    "plt.plot(x_data, (make_fourier(d,d))(x_data, *popt),\n",
    "         label='Fitted function')\n",
    "\n",
    "plt.legend(loc='best')\n",
    "\n",
    "plt.show()"
   ]
  },
  {
   "cell_type": "code",
   "execution_count": null,
   "metadata": {},
   "outputs": [],
   "source": [
    "import pandas as pd\n",
    "import matplotlib.pyplot as plt\n",
    "import numpy as np\n",
    "\n",
    "df = None\n",
    "with open(\"control_signal.csv\") as signal_file:\n",
    "    df = pd.read_csv(signal_file)\n",
    "\n",
    "t = np.arange(0.0005,8.0005,.0005)\n",
    "action = []\n",
    "\n",
    "for time in t:\n",
    "    action.append(df['action'][int(time+4//0.0005)])\n",
    "\n",
    "plt.figure(figsize=(6, 4))\n",
    "plt.plot(t, np.array(action), label='from_data')\n",
    "plt.plot(df['time'], df['action'], linestyle='dashed',label='from_csv')\n"
   ]
  }
 ],
 "metadata": {
  "kernelspec": {
   "display_name": "Python 3",
   "language": "python",
   "name": "python3"
  },
  "language_info": {
   "codemirror_mode": {
    "name": "ipython",
    "version": 3
   },
   "file_extension": ".py",
   "mimetype": "text/x-python",
   "name": "python",
   "nbconvert_exporter": "python",
   "pygments_lexer": "ipython3",
   "version": "3.8.16"
  }
 },
 "nbformat": 4,
 "nbformat_minor": 2
}
